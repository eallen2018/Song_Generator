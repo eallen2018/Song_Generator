{
 "cells": [
  {
   "cell_type": "code",
   "execution_count": 1,
   "metadata": {
    "collapsed": true
   },
   "outputs": [],
   "source": [
    "import tensorflow as tf\n",
    "import numpy as np"
   ]
  },
  {
   "cell_type": "code",
   "execution_count": 6,
   "metadata": {},
   "outputs": [],
   "source": [
    "# x1 = tf.placeholder(\"float\", [None, 10, 1])\n",
    "# x2 = tf.unstack(x1, 10, 1)\n",
    "\n",
    "# a = np.random.rand(3, 10, 1)\n",
    "# print(a)\n",
    "# sess = tf.Session()\n",
    "# print(sess.run(x2, feed_dict = {x1:a}))\n",
    "# print(len(x2))\n",
    "# print(len(x2[0]))"
   ]
  },
  {
   "cell_type": "code",
   "execution_count": 7,
   "metadata": {},
   "outputs": [
    {
     "name": "stdout",
     "output_type": "stream",
     "text": [
      "[[[ 0.63237727]\n",
      "  [ 0.02119321]\n",
      "  [ 0.18638744]\n",
      "  [ 0.79281849]\n",
      "  [ 0.25976223]\n",
      "  [ 0.29755404]\n",
      "  [ 0.5647569 ]\n",
      "  [ 0.98069068]\n",
      "  [ 0.23283138]\n",
      "  [ 0.27361258]]\n",
      "\n",
      " [[ 0.18992583]\n",
      "  [ 0.38948443]\n",
      "  [ 0.60990595]\n",
      "  [ 0.85177997]\n",
      "  [ 0.61589222]\n",
      "  [ 0.43388366]\n",
      "  [ 0.71657749]\n",
      "  [ 0.57825595]\n",
      "  [ 0.95085194]\n",
      "  [ 0.64449268]]\n",
      "\n",
      " [[ 0.07967887]\n",
      "  [ 0.80256301]\n",
      "  [ 0.69559578]\n",
      "  [ 0.70229826]\n",
      "  [ 0.60151475]\n",
      "  [ 0.92639292]\n",
      "  [ 0.76783365]\n",
      "  [ 0.62084792]\n",
      "  [ 0.20197726]\n",
      "  [ 0.80553026]]]\n"
     ]
    }
   ],
   "source": [
    "b = np.random.rand(3,10,1)\n",
    "print(type(b))"
   ]
  },
  {
   "cell_type": "code",
   "execution_count": null,
   "metadata": {
    "collapsed": true
   },
   "outputs": [],
   "source": []
  }
 ],
 "metadata": {
  "kernelspec": {
   "display_name": "Python 3",
   "language": "python",
   "name": "python3"
  },
  "language_info": {
   "codemirror_mode": {
    "name": "ipython",
    "version": 3
   },
   "file_extension": ".py",
   "mimetype": "text/x-python",
   "name": "python",
   "nbconvert_exporter": "python",
   "pygments_lexer": "ipython3",
   "version": "3.6.1"
  }
 },
 "nbformat": 4,
 "nbformat_minor": 2
}
