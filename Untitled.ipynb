{
 "cells": [
  {
   "cell_type": "code",
   "execution_count": 1,
   "metadata": {
    "collapsed": true
   },
   "outputs": [],
   "source": [
    "import tensorflow as tf\n",
    "import numpy as np"
   ]
  },
  {
   "cell_type": "code",
   "execution_count": 11,
   "metadata": {},
   "outputs": [
    {
     "name": "stdout",
     "output_type": "stream",
     "text": [
      "[[[ 0.22751591]\n",
      "  [ 0.78006547]\n",
      "  [ 0.34012268]\n",
      "  [ 0.21113633]\n",
      "  [ 0.70092324]\n",
      "  [ 0.60378946]\n",
      "  [ 0.54776501]\n",
      "  [ 0.81142672]\n",
      "  [ 0.09113893]\n",
      "  [ 0.44813123]]\n",
      "\n",
      " [[ 0.84343152]\n",
      "  [ 0.65717065]\n",
      "  [ 0.4252321 ]\n",
      "  [ 0.82253047]\n",
      "  [ 0.02505972]\n",
      "  [ 0.06149803]\n",
      "  [ 0.77765198]\n",
      "  [ 0.38832027]\n",
      "  [ 0.55595117]\n",
      "  [ 0.44989668]]\n",
      "\n",
      " [[ 0.6284944 ]\n",
      "  [ 0.80186188]\n",
      "  [ 0.72968409]\n",
      "  [ 0.99491537]\n",
      "  [ 0.17993411]\n",
      "  [ 0.02571438]\n",
      "  [ 0.86921006]\n",
      "  [ 0.28719692]\n",
      "  [ 0.67393639]\n",
      "  [ 0.21320155]]]\n",
      "[array([[ 0.22751591],\n",
      "       [ 0.78006548],\n",
      "       [ 0.34012267],\n",
      "       [ 0.21113633],\n",
      "       [ 0.70092326],\n",
      "       [ 0.60378945],\n",
      "       [ 0.54776502],\n",
      "       [ 0.8114267 ],\n",
      "       [ 0.09113894],\n",
      "       [ 0.44813123]], dtype=float32), array([[ 0.84343153],\n",
      "       [ 0.65717065],\n",
      "       [ 0.42523208],\n",
      "       [ 0.82253045],\n",
      "       [ 0.02505972],\n",
      "       [ 0.06149803],\n",
      "       [ 0.77765197],\n",
      "       [ 0.38832027],\n",
      "       [ 0.55595118],\n",
      "       [ 0.44989666]], dtype=float32), array([[ 0.62849438],\n",
      "       [ 0.80186188],\n",
      "       [ 0.72968411],\n",
      "       [ 0.99491537],\n",
      "       [ 0.17993411],\n",
      "       [ 0.02571438],\n",
      "       [ 0.86921006],\n",
      "       [ 0.2871969 ],\n",
      "       [ 0.67393637],\n",
      "       [ 0.21320155]], dtype=float32)]\n"
     ]
    }
   ],
   "source": [
    "x1 = tf.placeholder(\"float\", [None, 10, 1])\n",
    "x2 = tf.unstack(x1, 3, 0)\n",
    "\n",
    "a = np.random.rand(3, 10, 1)\n",
    "print(a)\n",
    "sess = tf.Session()\n",
    "print(sess.run(x2, feed_dict = {x1:a}))\n"
   ]
  },
  {
   "cell_type": "code",
   "execution_count": null,
   "metadata": {},
   "outputs": [],
   "source": []
  },
  {
   "cell_type": "code",
   "execution_count": null,
   "metadata": {
    "collapsed": true
   },
   "outputs": [],
   "source": []
  }
 ],
 "metadata": {
  "kernelspec": {
   "display_name": "Python 3",
   "language": "python",
   "name": "python3"
  },
  "language_info": {
   "codemirror_mode": {
    "name": "ipython",
    "version": 3
   },
   "file_extension": ".py",
   "mimetype": "text/x-python",
   "name": "python",
   "nbconvert_exporter": "python",
   "pygments_lexer": "ipython3",
   "version": "3.6.1"
  }
 },
 "nbformat": 4,
 "nbformat_minor": 2
}
